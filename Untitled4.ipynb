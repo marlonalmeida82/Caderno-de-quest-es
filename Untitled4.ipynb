{
  "nbformat": 4,
  "nbformat_minor": 0,
  "metadata": {
    "colab": {
      "provenance": []
    },
    "kernelspec": {
      "name": "python3",
      "display_name": "Python 3"
    },
    "language_info": {
      "name": "python"
    }
  },
  "cells": [
    {
      "cell_type": "code",
      "execution_count": 25,
      "metadata": {
        "colab": {
          "base_uri": "https://localhost:8080/"
        },
        "id": "w3su2qbcg03G",
        "outputId": "579222cf-fc84-4c09-dc3b-cb0fef9105e2"
      },
      "outputs": [
        {
          "output_type": "stream",
          "name": "stdout",
          "text": [
            "python é top!\n",
            "python é rápido!\n",
            "python é fácil!\n",
            "python é um passo a passo!\n"
          ]
        }
      ],
      "source": [
        "#Caderno de exercicio.\n",
        "\n",
        "print(\"python é top!\")\n",
        "print(\"python é rápido!\")\n",
        "print(\"python é fácil!\")\n",
        "print(\"python é um passo a passo!\")"
      ]
    },
    {
      "cell_type": "code",
      "source": [
        "\n",
        "print(\"Quase aprendendo python\")\n",
        "print(\"Quase aprendendo python\")\n",
        "print(\"Quase aprendendo python\")\n",
        "print(\"Quase aprendendo python\")\n",
        "print(\"Quase aprendendo python\")"
      ],
      "metadata": {
        "colab": {
          "base_uri": "https://localhost:8080/"
        },
        "id": "XRYMHxDMkuPq",
        "outputId": "7558ff31-ae3c-423a-a297-40a9b2b2312c"
      },
      "execution_count": 24,
      "outputs": [
        {
          "output_type": "stream",
          "name": "stdout",
          "text": [
            "Quase aprendendo python\n",
            "Quase aprendendo python\n",
            "Quase aprendendo python\n",
            "Quase aprendendo python\n",
            "Quase aprendendo python\n"
          ]
        }
      ]
    },
    {
      "cell_type": "code",
      "source": [
        "\n",
        "print(\"Python/n Maravilha\")"
      ],
      "metadata": {
        "colab": {
          "base_uri": "https://localhost:8080/"
        },
        "id": "ve9ifBrflxdQ",
        "outputId": "51215841-fe21-4807-c1a9-0ede2a36f058"
      },
      "execution_count": 23,
      "outputs": [
        {
          "output_type": "stream",
          "name": "stdout",
          "text": [
            "Python/n Maravilha\n"
          ]
        }
      ]
    },
    {
      "cell_type": "code",
      "source": [
        "\n",
        "print(\"Python pode usar\\t tabulação!\")"
      ],
      "metadata": {
        "colab": {
          "base_uri": "https://localhost:8080/"
        },
        "id": "ekMj3sBZmM0Z",
        "outputId": "62c48236-cd14-459a-d865-981700208945"
      },
      "execution_count": 22,
      "outputs": [
        {
          "output_type": "stream",
          "name": "stdout",
          "text": [
            "Python pode usar\t tabulação!\n"
          ]
        }
      ]
    },
    {
      "cell_type": "code",
      "source": [
        "\n",
        "print(\"No python equivale \\r um enter\")"
      ],
      "metadata": {
        "colab": {
          "base_uri": "https://localhost:8080/"
        },
        "id": "_Og672TZmki-",
        "outputId": "b789d449-cd93-46a0-c5df-777d2ff44b56"
      },
      "execution_count": 11,
      "outputs": [
        {
          "output_type": "stream",
          "name": "stdout",
          "text": [
            "No python equivale \r um enter\n"
          ]
        }
      ]
    },
    {
      "cell_type": "code",
      "source": [
        "print(\"imprima o \\'\")"
      ],
      "metadata": {
        "colab": {
          "base_uri": "https://localhost:8080/"
        },
        "id": "M5iaZL2nm5DP",
        "outputId": "5f727c13-feff-4eab-8fed-81d0d6e9168a"
      },
      "execution_count": 12,
      "outputs": [
        {
          "output_type": "stream",
          "name": "stdout",
          "text": [
            "imprima o '\n"
          ]
        }
      ]
    },
    {
      "cell_type": "code",
      "source": [
        "\n",
        "print(\"python é uma \",end=\"#####\")\n",
        "print(\"Maravilha\")"
      ],
      "metadata": {
        "colab": {
          "base_uri": "https://localhost:8080/"
        },
        "id": "ntmzFPELnNCH",
        "outputId": "e3cba669-a07c-42c3-eabf-ee75e01433e7"
      },
      "execution_count": 15,
      "outputs": [
        {
          "output_type": "stream",
          "name": "stdout",
          "text": [
            "python é uma #####Maravilha\n"
          ]
        }
      ]
    },
    {
      "cell_type": "code",
      "source": [
        "print(\"A\",\"b\",\"C\",0,sep=\"*\")\n"
      ],
      "metadata": {
        "colab": {
          "base_uri": "https://localhost:8080/"
        },
        "id": "jxknaRLCoPkx",
        "outputId": "90915a4a-a195-4dd1-ca50-6b00b682ec51"
      },
      "execution_count": 41,
      "outputs": [
        {
          "output_type": "stream",
          "name": "stdout",
          "text": [
            "A*b*C*0\n"
          ]
        }
      ]
    },
    {
      "cell_type": "code",
      "source": [
        "\n",
        "print(\"A\",\"B\",\"C\",0,sep=\"\\n\")\n"
      ],
      "metadata": {
        "colab": {
          "base_uri": "https://localhost:8080/"
        },
        "id": "fnEd0ogEqG76",
        "outputId": "51a96a19-2dfa-41aa-c8fd-ae7d65e685e2"
      },
      "execution_count": 42,
      "outputs": [
        {
          "output_type": "stream",
          "name": "stdout",
          "text": [
            "A\n",
            "B\n",
            "C\n",
            "0\n"
          ]
        }
      ]
    },
    {
      "cell_type": "code",
      "source": [
        "\n",
        "print(\"     *\")\n",
        "print(\"    ***\")\n",
        "print(\"   *****\")\n",
        "print(\"  *******\")\n",
        "print(\" *********\")\n",
        "print(\"     *\")\n",
        "print(\"     *\")\n",
        "print(\"     *\")"
      ],
      "metadata": {
        "colab": {
          "base_uri": "https://localhost:8080/"
        },
        "id": "6MVc29XCsGwc",
        "outputId": "3ce34b92-9a63-478b-ee81-a881e1ac61c9"
      },
      "execution_count": 48,
      "outputs": [
        {
          "output_type": "stream",
          "name": "stdout",
          "text": [
            "     *\n",
            "    ***\n",
            "   *****\n",
            "  *******\n",
            " *********\n",
            "     *\n",
            "     *\n",
            "     *\n"
          ]
        }
      ]
    },
    {
      "cell_type": "code",
      "source": [
        "\n",
        "x=1\n",
        "y=2.0\n",
        "soma=5+5\n",
        "nome=\"Marlon\"\n",
        "sobrenome=\"Almeida\"\n",
        "ligado=True\n",
        "print(f\"{x},{y},{soma},{nome},{sobrenome},{ligado}\")\n",
        "print(f\"{type(x)}, {type(y)}, {type(soma)}, {type(nome)}, {type(sobrenome)}, {type(ligado)}\")\n",
        "\n",
        "\n"
      ],
      "metadata": {
        "colab": {
          "base_uri": "https://localhost:8080/"
        },
        "id": "ET0fQpWrsnJh",
        "outputId": "60d3d98c-dbf3-4274-95f1-920114e754f6"
      },
      "execution_count": 43,
      "outputs": [
        {
          "output_type": "stream",
          "name": "stdout",
          "text": [
            "1,2.0,10,Marlon,Almeida,True\n",
            "<class 'int'>, <class 'float'>, <class 'int'>, <class 'str'>, <class 'str'>, <class 'bool'>\n"
          ]
        }
      ]
    },
    {
      "cell_type": "code",
      "source": [
        "nome = 10\n",
        "MarlonAlmeida = 45\n",
        "desligado = \"sim\"\n",
        "\n",
        "print(type(nome))\n",
        "print(type(MarlonAlmeida))\n",
        "print(type(desligado))\n"
      ],
      "metadata": {
        "colab": {
          "base_uri": "https://localhost:8080/"
        },
        "id": "snDEbQGnuR4b",
        "outputId": "fb902aac-a1d2-4033-d89a-270882599b19"
      },
      "execution_count": 44,
      "outputs": [
        {
          "output_type": "stream",
          "name": "stdout",
          "text": [
            "<class 'int'>\n",
            "<class 'int'>\n",
            "<class 'str'>\n"
          ]
        }
      ]
    },
    {
      "cell_type": "code",
      "source": [
        "valor = 2.718285\n",
        "print (f\"Formatando casas decimais: {valor:.2f}\")\n"
      ],
      "metadata": {
        "colab": {
          "base_uri": "https://localhost:8080/"
        },
        "id": "wbX0QTHEuhpz",
        "outputId": "d4fa3791-3a66-4d1c-e5d7-aaf0d842510d"
      },
      "execution_count": 45,
      "outputs": [
        {
          "output_type": "stream",
          "name": "stdout",
          "text": [
            "Formatando casas decimais: 2.72\n"
          ]
        }
      ]
    },
    {
      "cell_type": "code",
      "source": [
        "valor = 3.14159265358979323848\n",
        "print (f\"Formatando casas decimais de PI: {valor:.2f}\")\n"
      ],
      "metadata": {
        "id": "U8sjaqUBuvsb"
      },
      "execution_count": null,
      "outputs": []
    },
    {
      "cell_type": "code",
      "source": [
        "delta = 1\n",
        "\n",
        "if delta > 0:\n",
        "    print(\"O valor é maior que zero\")\n",
        "elif delta < 0:\n",
        "    print(\"O valor é menor que zero\")\n",
        "else:\n",
        "    print(\"O valor é igual a zero\")"
      ],
      "metadata": {
        "colab": {
          "base_uri": "https://localhost:8080/"
        },
        "id": "tJIketA2u6NC",
        "outputId": "28c5fa7b-d7e7-461d-b3ff-a4d9b1ce4153"
      },
      "execution_count": 46,
      "outputs": [
        {
          "output_type": "stream",
          "name": "stdout",
          "text": [
            "O valor é maior que zero\n"
          ]
        }
      ]
    },
    {
      "cell_type": "code",
      "source": [
        "matrix_4x3 = 19, 20, 21, 22, 23, 24, 25, 26, 27, 28, 29, 30, 31\n",
        "print (matrix_4x3)\n"
      ],
      "metadata": {
        "id": "TYsDzhADvI4Q"
      },
      "execution_count": null,
      "outputs": []
    },
    {
      "cell_type": "code",
      "source": [
        "global_var = 10\n",
        "\n",
        "def minha_funcao():\n",
        "  local_var = 20\n",
        "  print(\"Variável local dentro da função:\", local_var)\n",
        "  print(\"Variável global dentro da função:\", global_var)\n",
        "\n",
        "minha_funcao()\n",
        "print (\"Variável global dentro da função:\", global_var)\n"
      ],
      "metadata": {
        "colab": {
          "base_uri": "https://localhost:8080/"
        },
        "id": "W_7Z1xcLvupg",
        "outputId": "284fa28b-f746-44ab-bad5-b05a36da6a3e"
      },
      "execution_count": 47,
      "outputs": [
        {
          "output_type": "stream",
          "name": "stdout",
          "text": [
            "Variável local dentro da função: 20\n",
            "Variável global dentro da função: 10\n",
            "Variável global dentro da função: 10\n"
          ]
        }
      ]
    },
    {
      "cell_type": "code",
      "source": [
        "#Cite dois tipos de variáveis que você pode usar em funçoes:\n",
        "#.Tipo1: Variável Local\n",
        "#.Tipo2: Variável Global"
      ],
      "metadata": {
        "id": "2gqIjy8fwGS3"
      },
      "execution_count": null,
      "outputs": []
    }
  ]
}