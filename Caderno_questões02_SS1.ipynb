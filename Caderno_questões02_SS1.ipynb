{
  "nbformat": 4,
  "nbformat_minor": 0,
  "metadata": {
    "colab": {
      "provenance": []
    },
    "kernelspec": {
      "name": "python3",
      "display_name": "Python 3"
    },
    "language_info": {
      "name": "python"
    }
  },
  "cells": [
    {
      "cell_type": "code",
      "execution_count": 4,
      "metadata": {
        "colab": {
          "base_uri": "https://localhost:8080/"
        },
        "id": "dWP9ZTlmyweJ",
        "outputId": "b4f0e539-2b54-4ce0-d293-57be2c02bbd6"
      },
      "outputs": [
        {
          "output_type": "stream",
          "name": "stdout",
          "text": [
            "Olá mundo!\n"
          ]
        }
      ],
      "source": [
        "print(\"Olá mundo!\")\n"
      ]
    },
    {
      "cell_type": "code",
      "source": [
        "nome = (\"Maria\")\n",
        "print(nome)\n"
      ],
      "metadata": {
        "colab": {
          "base_uri": "https://localhost:8080/"
        },
        "id": "l8yxrzfJy-K1",
        "outputId": "d68ea2cf-693e-4c5f-bf68-903122807cfc"
      },
      "execution_count": 3,
      "outputs": [
        {
          "output_type": "stream",
          "name": "stdout",
          "text": [
            "Maria\n"
          ]
        }
      ]
    },
    {
      "cell_type": "code",
      "source": [
        "numero=int(input(\"Informe o número: \"))\n",
        "print(f\"{type(numero)}\")\n"
      ],
      "metadata": {
        "id": "ITVJWRrSzVWh"
      },
      "execution_count": null,
      "outputs": []
    },
    {
      "cell_type": "code",
      "source": [
        "a=10\n",
        "b=5\n",
        "print(f\"soma: {a+b}\")\n",
        "print(f\"sub: {a-b}\")\n",
        "print(f\"multiplicação: {a*b}\")\n",
        "print(f\"divisão: {a/b}\")\n",
        "\n",
        "\n"
      ],
      "metadata": {
        "id": "of2Bep5-15Fc"
      },
      "execution_count": null,
      "outputs": []
    },
    {
      "cell_type": "code",
      "source": [
        "numero1=int(input(\"digite o número: \"))\n",
        "numero2=int(input(\"digite outro número: \"))\n",
        "soma=numero1 + numero2\n",
        "print(f\"{soma}\")"
      ],
      "metadata": {
        "id": "4QvYspC34QhZ"
      },
      "execution_count": null,
      "outputs": []
    },
    {
      "cell_type": "code",
      "source": [
        "idade=int(input(\"Digite sua idade: \"))\n",
        "if idade >=18:\n",
        "  print(\"Maior de idade\")\n",
        "else:\n",
        "  print(\"Menor de idade\")"
      ],
      "metadata": {
        "colab": {
          "base_uri": "https://localhost:8080/"
        },
        "id": "WtpE6zTs5m7g",
        "outputId": "3ee9eadc-da0f-4498-dff5-00933696672f"
      },
      "execution_count": 19,
      "outputs": [
        {
          "output_type": "stream",
          "name": "stdout",
          "text": [
            "Digite sua idade: 18\n",
            "Maior de idade\n"
          ]
        }
      ]
    },
    {
      "cell_type": "code",
      "source": [
        "numero=int(input(\"Digite o número: \"))\n",
        "if numero % 2 == 0:\n",
        "  print(\"Par\")\n",
        "else:\n",
        "  print(\"Impar\")"
      ],
      "metadata": {
        "id": "KrkQvZP87NaX"
      },
      "execution_count": null,
      "outputs": []
    },
    {
      "cell_type": "code",
      "source": [
        "idade=int(input(\"Informe sua idade: \"))\n",
        "if idade < 18:\n",
        "  print(\"Menor de idade\")\n",
        "elif idade > 65:\n",
        "  print(\"Idoso\")\n",
        "else:\n",
        "  print(\"Juventude\")"
      ],
      "metadata": {
        "colab": {
          "base_uri": "https://localhost:8080/"
        },
        "id": "-u3hdOm58v6F",
        "outputId": "d1bd133b-2116-48bd-8de6-d5afa119ddd1"
      },
      "execution_count": 24,
      "outputs": [
        {
          "output_type": "stream",
          "name": "stdout",
          "text": [
            "Informe sua idade: 70\n",
            "Idoso\n"
          ]
        }
      ]
    }
  ]
}