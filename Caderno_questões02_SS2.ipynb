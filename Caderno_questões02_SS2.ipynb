{
  "nbformat": 4,
  "nbformat_minor": 0,
  "metadata": {
    "colab": {
      "provenance": []
    },
    "kernelspec": {
      "name": "python3",
      "display_name": "Python 3"
    },
    "language_info": {
      "name": "python"
    }
  },
  "cells": [
    {
      "cell_type": "code",
      "source": [
        "idade=int(input(\"Digite sua idade\"))\n",
        "if idade <=18:\n",
        "  print(\"Menor de idade\")\n",
        "else:\n",
        "  print(\"maior de idade\")\n"
      ],
      "metadata": {
        "id": "9M1oIXb3_YCD"
      },
      "execution_count": null,
      "outputs": []
    },
    {
      "cell_type": "code",
      "source": [
        "nota=int(input(\"Digite sua nota: \"))\n",
        "if nota <=6:\n",
        "  print(\"Reprovado\")\n",
        "else:\n",
        "  print(\"Aprovado\")"
      ],
      "metadata": {
        "id": "4wdyemzvA5r6"
      },
      "execution_count": null,
      "outputs": []
    },
    {
      "cell_type": "code",
      "source": [
        "\n",
        "  numero=int(input(\"Digite um número inteiro: \"))\n",
        "  if numero < 0:\n",
        "    print(\"Negativo\")\n",
        "  elif numero > 0:\n",
        "    print(\"Positivo\")\n",
        "  else:\n",
        "    print(\"Nulo\")"
      ],
      "metadata": {
        "id": "Wgr2bY2XCGGP",
        "colab": {
          "base_uri": "https://localhost:8080/"
        },
        "outputId": "f89e66d8-0ab4-452a-cdde-5be41540ceab"
      },
      "execution_count": 2,
      "outputs": [
        {
          "output_type": "stream",
          "name": "stdout",
          "text": [
            "Digite um número inteiro: 0\n",
            "Nulo\n"
          ]
        }
      ]
    },
    {
      "cell_type": "code",
      "source": [
        "num1=int(input(\"Digite primeiro número: \"))\n",
        "num2=int(input(\"Digite o segundo número: \"))\n",
        "if num1 >num2:\n",
        "  print(f\"{num1} é maior que {num2}\")\n",
        "else:\n",
        "  print(f\"{num2} é maior que {num1}\")"
      ],
      "metadata": {
        "id": "dS5NVFH2xVcF"
      },
      "execution_count": null,
      "outputs": []
    },
    {
      "cell_type": "code",
      "source": [
        "operacao = input(\"Digite a operação: (+,-,*,/)\")\n",
        "num1= int(input(\"Digit o primeiro número: \"))\n",
        "num2=int (input(\"Digite o segundo número: \"))\n",
        "if operacao == \"+\":\n",
        "  resultado = num1 + num2\n",
        "elif operacao == \"-\":\n",
        "  resultado = num1 - num2\n",
        "elif operacao == \"*\":\n",
        "  resultado = num1 * num2\n",
        "elif operacao == \"/\":\n",
        "  reultado = num1 / num2\n",
        "else:\n",
        "  print(\"Operação invalida. Escolha entre'+','-','*','/'\")\n",
        "print(f\"O resultado da operação {num1} {operacao} {num2} é= {resultado}\")"
      ],
      "metadata": {
        "id": "o03mXCXTzWDm"
      },
      "execution_count": null,
      "outputs": []
    },
    {
      "cell_type": "code",
      "source": [
        "numero=int(input(\"Digite o número: \"))\n",
        "if numero >0 and numero%2==0:\n",
        "  print(f\"O número {numero} é par e positivo\")\n",
        "elif numero <0 and numero % 2 ==0:\n",
        "  print(f\"O número {numero} é par e negativo \")\n",
        "else:\n",
        "  print(f\"O número {numero} erro 404!@#$%\")"
      ],
      "metadata": {
        "id": "p-euPOiL4y98"
      },
      "execution_count": null,
      "outputs": []
    },
    {
      "cell_type": "code",
      "source": [
        "idade=int(input(\"Digite sua idade: \"))\n",
        "if idade < 12:\n",
        "  print(\"criança\")\n",
        "elif idade > 17:\n",
        "  print(\"adulto\")\n",
        "else:\n",
        "  print(\"Adolescente\")"
      ],
      "metadata": {
        "id": "3NvNnn5T_ZpM"
      },
      "execution_count": null,
      "outputs": []
    },
    {
      "cell_type": "code",
      "source": [
        "resultado = (2 + 3) * 4 - 5 / 2 * (2 + 3) * 4 - 5 / 2\n",
        "print(\"O resultado da expressão é:\", resultado)\n"
      ],
      "metadata": {
        "colab": {
          "base_uri": "https://localhost:8080/"
        },
        "id": "USnMp6a4Fepf",
        "outputId": "99d5ae3a-f447-47bd-e971-0e1b7c12e3ae"
      },
      "execution_count": 53,
      "outputs": [
        {
          "output_type": "stream",
          "name": "stdout",
          "text": [
            "O resultado da expressão é: -32.5\n"
          ]
        }
      ]
    },
    {
      "cell_type": "code",
      "source": [
        "base1 = 2\n",
        "base2 = base1 ** 2\n",
        "print(base2)"
      ],
      "metadata": {
        "colab": {
          "base_uri": "https://localhost:8080/"
        },
        "id": "BSGbsf72Ggeu",
        "outputId": "b0903f6c-d93a-4eb6-9a97-5bb59638ac0d"
      },
      "execution_count": 55,
      "outputs": [
        {
          "output_type": "stream",
          "name": "stdout",
          "text": [
            "4\n"
          ]
        }
      ]
    },
    {
      "cell_type": "code",
      "source": [
        "import math\n",
        "\n",
        "raio = 5\n",
        "area = math.pi * raio ** 2\n",
        "print(f\"A área do circulo com raio {raio} é aproximadamente {area:.2f} unidades da área.\")"
      ],
      "metadata": {
        "colab": {
          "base_uri": "https://localhost:8080/"
        },
        "id": "l71hAkGYG6em",
        "outputId": "15e95db4-b2ea-4933-ed49-b3b9cdd8252c"
      },
      "execution_count": 56,
      "outputs": [
        {
          "output_type": "stream",
          "name": "stdout",
          "text": [
            "A área do circulo com raio 5 é aproximadamente 78.54 unidades da área.\n"
          ]
        }
      ]
    }
  ]
}